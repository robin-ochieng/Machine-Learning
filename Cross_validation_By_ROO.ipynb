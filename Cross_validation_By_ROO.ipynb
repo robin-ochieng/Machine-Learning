{
  "nbformat": 4,
  "nbformat_minor": 0,
  "metadata": {
    "colab": {
      "provenance": [],
      "authorship_tag": "ABX9TyOzQHxg96UhOq0OjxMbsyUW",
      "include_colab_link": true
    },
    "kernelspec": {
      "name": "python3",
      "display_name": "Python 3"
    },
    "language_info": {
      "name": "python"
    }
  },
  "cells": [
    {
      "cell_type": "markdown",
      "metadata": {
        "id": "view-in-github",
        "colab_type": "text"
      },
      "source": [
        "<a href=\"https://colab.research.google.com/github/robin-ochieng/Machine-Learning/blob/main/Cross_validation_By_ROO.ipynb\" target=\"_parent\"><img src=\"https://colab.research.google.com/assets/colab-badge.svg\" alt=\"Open In Colab\"/></a>"
      ]
    },
    {
      "cell_type": "code",
      "execution_count": 1,
      "metadata": {
        "id": "oaflZ52-PL_V"
      },
      "outputs": [],
      "source": [
        "import numpy as np\n",
        "import pandas as pd\n",
        "from sklearn.datasets import load_iris\n",
        "from sklearn.model_selection import cross_validate\n",
        "from sklearn.linear_model import LogisticRegression\n",
        "\n",
        "# Load the Iris dataset\n",
        "iris = load_iris()\n",
        "X = iris.data\n",
        "y = iris.target\n",
        "\n",
        "# Create a logistic regression model\n",
        "model = LogisticRegression(max_iter=1000)"
      ]
    },
    {
      "cell_type": "code",
      "source": [
        "# Perform 5-fold cross-validation\n",
        "cv_results = cross_validate(model, X, y, cv=5)\n",
        "\n",
        "# Print the results\n",
        "print(cv_results)\n"
      ],
      "metadata": {
        "colab": {
          "base_uri": "https://localhost:8080/"
        },
        "id": "UqeschJgUQI1",
        "outputId": "49d5e76e-4060-4d13-8b5f-8355d7baa281"
      },
      "execution_count": 13,
      "outputs": [
        {
          "output_type": "stream",
          "name": "stdout",
          "text": [
            "{'fit_time': array([0.03019261, 0.01997304, 0.01447153, 0.01541185, 0.01439929]), 'score_time': array([0.00088167, 0.00075364, 0.00074482, 0.00075626, 0.00075078]), 'test_score': array([0.96666667, 1.        , 0.93333333, 0.96666667, 1.        ])}\n"
          ]
        }
      ]
    },
    {
      "cell_type": "code",
      "source": [
        "cv_results"
      ],
      "metadata": {
        "colab": {
          "base_uri": "https://localhost:8080/"
        },
        "id": "6LXE3gAMVias",
        "outputId": "319db85a-793d-497b-a450-16dba13c2a9f"
      },
      "execution_count": 14,
      "outputs": [
        {
          "output_type": "execute_result",
          "data": {
            "text/plain": [
              "{'fit_time': array([0.03019261, 0.01997304, 0.01447153, 0.01541185, 0.01439929]),\n",
              " 'score_time': array([0.00088167, 0.00075364, 0.00074482, 0.00075626, 0.00075078]),\n",
              " 'test_score': array([0.96666667, 1.        , 0.93333333, 0.96666667, 1.        ])}"
            ]
          },
          "metadata": {},
          "execution_count": 14
        }
      ]
    },
    {
      "cell_type": "markdown",
      "source": [
        "## Customizing the cross-validation function"
      ],
      "metadata": {
        "id": "dEyLCK_FVwdr"
      }
    },
    {
      "cell_type": "code",
      "source": [
        "from sklearn.metrics import make_scorer, precision_score, recall_score, f1_score\n",
        "\n",
        "# Define custom scoring metrics\n",
        "scoring = {\n",
        "    'precision': make_scorer(precision_score, average='weighted'),\n",
        "    'recall': make_scorer(recall_score, average='weighted'),\n",
        "    'f1_score': make_scorer(f1_score, average='weighted')\n",
        "}\n",
        "\n",
        "# Perform 5-fold cross-validation with custom scoring metrics\n",
        "cv_results = cross_validate(model, X, y, cv=5, scoring=scoring)\n",
        "\n",
        "# Print the results\n",
        "print(cv_results)\n"
      ],
      "metadata": {
        "colab": {
          "base_uri": "https://localhost:8080/"
        },
        "id": "J6lUrRNnUQ-H",
        "outputId": "c4e9f6a5-b809-4bbc-dbdb-aacec530bf87"
      },
      "execution_count": 15,
      "outputs": [
        {
          "output_type": "stream",
          "name": "stdout",
          "text": [
            "{'fit_time': array([0.13886809, 0.2440176 , 0.12440538, 0.11226869, 0.02253056]), 'score_time': array([0.04680824, 0.03698468, 0.02481008, 0.01582527, 0.00556302]), 'test_precision': array([0.96969697, 1.        , 0.94444444, 0.96969697, 1.        ]), 'test_recall': array([0.96666667, 1.        , 0.93333333, 0.96666667, 1.        ]), 'test_f1_score': array([0.96658312, 1.        , 0.93265993, 0.96658312, 1.        ])}\n"
          ]
        }
      ]
    },
    {
      "cell_type": "code",
      "source": [
        "cv_results"
      ],
      "metadata": {
        "colab": {
          "base_uri": "https://localhost:8080/"
        },
        "id": "98CQHcX6W5O7",
        "outputId": "bb1479f6-972c-4328-c607-7943e279c054"
      },
      "execution_count": 16,
      "outputs": [
        {
          "output_type": "execute_result",
          "data": {
            "text/plain": [
              "{'fit_time': array([0.13886809, 0.2440176 , 0.12440538, 0.11226869, 0.02253056]),\n",
              " 'score_time': array([0.04680824, 0.03698468, 0.02481008, 0.01582527, 0.00556302]),\n",
              " 'test_precision': array([0.96969697, 1.        , 0.94444444, 0.96969697, 1.        ]),\n",
              " 'test_recall': array([0.96666667, 1.        , 0.93333333, 0.96666667, 1.        ]),\n",
              " 'test_f1_score': array([0.96658312, 1.        , 0.93265993, 0.96658312, 1.        ])}"
            ]
          },
          "metadata": {},
          "execution_count": 16
        }
      ]
    },
    {
      "cell_type": "code",
      "source": [
        "cv_results = cross_validate(model, X, y, cv=5, return_train_score=True)\n",
        "print(cv_results)\n"
      ],
      "metadata": {
        "colab": {
          "base_uri": "https://localhost:8080/"
        },
        "id": "-m5-1BYbW61R",
        "outputId": "177fff92-90b9-41fb-9524-f5145a520e0d"
      },
      "execution_count": 17,
      "outputs": [
        {
          "output_type": "stream",
          "name": "stdout",
          "text": [
            "{'fit_time': array([0.02227259, 0.01907682, 0.01372123, 0.01506138, 0.11353731]), 'score_time': array([0.00084591, 0.000741  , 0.00071073, 0.00075865, 0.00076842]), 'test_score': array([0.96666667, 1.        , 0.93333333, 0.96666667, 1.        ]), 'train_score': array([0.96666667, 0.96666667, 0.98333333, 0.98333333, 0.975     ])}\n"
          ]
        }
      ]
    },
    {
      "cell_type": "code",
      "source": [
        "cv_results"
      ],
      "metadata": {
        "colab": {
          "base_uri": "https://localhost:8080/"
        },
        "id": "nUp-ZVNZXaXC",
        "outputId": "e14fcf0c-bf1e-4813-b38d-cc01e85f88cc"
      },
      "execution_count": 18,
      "outputs": [
        {
          "output_type": "execute_result",
          "data": {
            "text/plain": [
              "{'fit_time': array([0.02227259, 0.01907682, 0.01372123, 0.01506138, 0.11353731]),\n",
              " 'score_time': array([0.00084591, 0.000741  , 0.00071073, 0.00075865, 0.00076842]),\n",
              " 'test_score': array([0.96666667, 1.        , 0.93333333, 0.96666667, 1.        ]),\n",
              " 'train_score': array([0.96666667, 0.96666667, 0.98333333, 0.98333333, 0.975     ])}"
            ]
          },
          "metadata": {},
          "execution_count": 18
        }
      ]
    },
    {
      "cell_type": "code",
      "source": [
        "from sklearn.svm import SVC\n",
        "from sklearn.ensemble import RandomForestClassifier\n",
        "\n",
        "# Create an SVM model and a random forest model\n",
        "svm = SVC(kernel='linear', C=1, random_state=42)\n",
        "rf = RandomForestClassifier(n_estimators=100, random_state=42)\n",
        "\n",
        "# Perform 5-fold cross-validation for both models\n",
        "cv_results_svm = cross_validate(svm, X, y, cv=5)\n",
        "cv_results_rf = cross_validate(rf, X, y, cv=5)\n",
        "\n",
        "# Print the results\n",
        "print(\"SVM:\", cv_results_svm)\n",
        "print(\"Random Forest:\", cv_results_rf)\n"
      ],
      "metadata": {
        "colab": {
          "base_uri": "https://localhost:8080/"
        },
        "id": "ZqG4IlTFXcEv",
        "outputId": "83f9ee61-6d75-49bb-c075-6694761bd73a"
      },
      "execution_count": 19,
      "outputs": [
        {
          "output_type": "stream",
          "name": "stdout",
          "text": [
            "SVM: {'fit_time': array([0.00186467, 0.00117731, 0.00104427, 0.00108218, 0.0010407 ]), 'score_time': array([0.00071931, 0.00059843, 0.0005796 , 0.00057554, 0.00056434]), 'test_score': array([0.96666667, 1.        , 0.96666667, 0.96666667, 1.        ])}\n",
            "Random Forest: {'fit_time': array([0.15817285, 0.14139223, 0.13883209, 0.15164566, 0.15378237]), 'score_time': array([0.00943923, 0.00977015, 0.0092957 , 0.00973392, 0.0095427 ]), 'test_score': array([0.96666667, 0.96666667, 0.93333333, 0.96666667, 1.        ])}\n"
          ]
        }
      ]
    },
    {
      "cell_type": "code",
      "source": [
        "cv_results_rf"
      ],
      "metadata": {
        "colab": {
          "base_uri": "https://localhost:8080/"
        },
        "id": "RG8kQ9KXYKDi",
        "outputId": "1f3c48a9-cafa-4338-9a08-61f62595e51e"
      },
      "execution_count": 20,
      "outputs": [
        {
          "output_type": "execute_result",
          "data": {
            "text/plain": [
              "{'fit_time': array([0.15817285, 0.14139223, 0.13883209, 0.15164566, 0.15378237]),\n",
              " 'score_time': array([0.00943923, 0.00977015, 0.0092957 , 0.00973392, 0.0095427 ]),\n",
              " 'test_score': array([0.96666667, 0.96666667, 0.93333333, 0.96666667, 1.        ])}"
            ]
          },
          "metadata": {},
          "execution_count": 20
        }
      ]
    },
    {
      "cell_type": "code",
      "source": [
        "cv_results_svm"
      ],
      "metadata": {
        "colab": {
          "base_uri": "https://localhost:8080/"
        },
        "id": "YjZQuLMtYN1L",
        "outputId": "d5aa828f-a36a-4fe2-d0dc-e6f886c4ae1e"
      },
      "execution_count": 21,
      "outputs": [
        {
          "output_type": "execute_result",
          "data": {
            "text/plain": [
              "{'fit_time': array([0.00186467, 0.00117731, 0.00104427, 0.00108218, 0.0010407 ]),\n",
              " 'score_time': array([0.00071931, 0.00059843, 0.0005796 , 0.00057554, 0.00056434]),\n",
              " 'test_score': array([0.96666667, 1.        , 0.96666667, 0.96666667, 1.        ])}"
            ]
          },
          "metadata": {},
          "execution_count": 21
        }
      ]
    },
    {
      "cell_type": "markdown",
      "source": [
        "##Handling Imbalanced data with cross validate"
      ],
      "metadata": {
        "id": "wHUKlIVJaT-i"
      }
    },
    {
      "cell_type": "code",
      "source": [
        "from sklearn.model_selection import StratifiedKFold\n",
        "\n",
        "# Create a stratified k-fold cross-validator\n",
        "stratified_cv = StratifiedKFold(n_splits=5, shuffle=True, random_state=42)\n",
        "\n",
        "# Perform 5-fold stratified cross-validation\n",
        "cv_results = cross_validate(model, X, y, cv=stratified_cv)\n",
        "\n",
        "# Print the results\n",
        "print(cv_results)\n"
      ],
      "metadata": {
        "colab": {
          "base_uri": "https://localhost:8080/"
        },
        "id": "NmrpfB3cacad",
        "outputId": "4a23b8d7-6bfb-4311-cb1c-5297448bd259"
      },
      "execution_count": 22,
      "outputs": [
        {
          "output_type": "stream",
          "name": "stdout",
          "text": [
            "{'fit_time': array([0.02661228, 0.02330875, 0.01565742, 0.01685929, 0.02469563]), 'score_time': array([0.00118136, 0.00078869, 0.00074458, 0.00072408, 0.00076032]), 'test_score': array([1.        , 0.96666667, 0.93333333, 1.        , 0.93333333])}\n"
          ]
        }
      ]
    },
    {
      "cell_type": "code",
      "source": [
        "cv_results"
      ],
      "metadata": {
        "colab": {
          "base_uri": "https://localhost:8080/"
        },
        "id": "43lorlWPcEu4",
        "outputId": "9fff1ac7-98b1-4fe3-9c14-02c8903fec98"
      },
      "execution_count": 23,
      "outputs": [
        {
          "output_type": "execute_result",
          "data": {
            "text/plain": [
              "{'fit_time': array([0.02661228, 0.02330875, 0.01565742, 0.01685929, 0.02469563]),\n",
              " 'score_time': array([0.00118136, 0.00078869, 0.00074458, 0.00072408, 0.00076032]),\n",
              " 'test_score': array([1.        , 0.96666667, 0.93333333, 1.        , 0.93333333])}"
            ]
          },
          "metadata": {},
          "execution_count": 23
        }
      ]
    },
    {
      "cell_type": "markdown",
      "source": [
        "##Nested cross validation for model selection\n",
        "\n"
      ],
      "metadata": {
        "id": "JPWThayMcPfI"
      }
    },
    {
      "cell_type": "code",
      "source": [
        "\n",
        "from sklearn.model_selection import KFold\n",
        "from sklearn.metrics import accuracy_score\n",
        "\n",
        "# Define the outer and inner cross-validation strategies\n",
        "outer_cv = KFold(n_splits=5, shuffle=True, random_state=42)\n",
        "inner_cv = KFold(n_splits=5, shuffle=True, random_state=42)\n",
        "\n",
        "# Define the parameter grid\n",
        "C_values = [0.001, 0.01, 0.1, 1, 10, 100]\n",
        "\n",
        "# Nested cross-validation\n",
        "outer_scores = []\n",
        "\n",
        "for train_index, val_index in from sklearn.model_selection import KFold\n",
        "from sklearn.metrics import accuracy_score\n",
        "\n",
        "# Define the outer and inner cross-validation strategies\n",
        "outer_cv = KFold(n_splits=5, shuffle=True, random_state=42)\n",
        "inner_cv = KFold(n_splits=5, shuffle=True, random_state=42)\n",
        "\n",
        "# Define the parameter grid\n",
        "C_values = [0.001, 0.01, 0.1, 1, 10, 100]\n",
        "\n",
        "# Nested cross-validation\n",
        "outer_scores = []\n",
        "\n",
        "for train_index, val_index in outer_cv.split(X, y):\n",
        "    X_train, X_val = X[train_index], X[val_index]\n",
        "    y_train, y_val = y[train_index], y[val_index]\n",
        "\n",
        "    best_score = 0\n",
        "    best_C = None\n",
        "\n",
        "    for C in C_values:\n",
        "        model = LogisticRegression(C=C, max_iter=1000)\n",
        "        inner_scores = cross_validate(model, X_train, y_train, cv=inner_cv, scoring='accuracy')['test_score']\n",
        "        score = np.mean(inner_scores)\n",
        "\n",
        "        if score > best_score:\n",
        "            best_score = score\n",
        "            best_C = C\n",
        "\n",
        "    # Train the model with the best C value on the outer training set\n",
        "    model = LogisticRegression(C=best_C, max_iter=1000)\n",
        "    model.fit(X_train, y_train)\n",
        "    val_score = accuracy_score(y_val, model.predict(X_val))\n",
        "    outer_scores.append(val_score)\n",
        "\n",
        "# Print the average accuracy across the outer folds\n",
        "print(\"Average accuracy:\", np.mean(outer_scores))from sklearn.model_selection import KFold\n",
        "from sklearn.metrics import accuracy_score\n",
        "\n",
        "# Define the outer and inner cross-validation strategies\n",
        "outer_cv = KFold(n_splits=5, shuffle=True, random_state=42)\n",
        "inner_cv = KFold(n_splits=5, shuffle=True, random_state=42)\n",
        "\n",
        "# Define the parameter grid\n",
        "C_values = [0.001, 0.01, 0.1, 1, 10, 100]\n",
        "\n",
        "# Nested cross-validation\n",
        "outer_scores = []\n",
        "\n",
        "for train_index, val_index in outer_cv.split(X, y):\n",
        "    X_train, X_val = X[train_index], X[val_index]\n",
        "    y_train, y_val = y[train_index], y[val_index]\n",
        "\n",
        "    best_score = 0\n",
        "    best_C = None\n",
        "\n",
        "    for C in C_values:\n",
        "        model = LogisticRegression(C=C, max_iter=1000)\n",
        "        inner_scores = cross_validate(model, X_train, y_train, cv=inner_cv, scoring='accuracy')['test_score']\n",
        "        score = np.mean(inner_scores)\n",
        "\n",
        "        if score > best_score:\n",
        "            best_score = score\n",
        "            best_C = C\n",
        "\n",
        "    # Train the model with the best C value on the outer training set\n",
        "    model = LogisticRegression(C=best_C, max_iter=1000)\n",
        "    model.fit(X_train, y_train)\n",
        "    val_score = accuracy_score(y_val, model.predict(X_val))\n",
        "    outer_scores.append(val_score)\n",
        "\n",
        "# Print the average accuracy across the outer folds\n",
        "print(\"Average accuracy:\", np.mean(outer_scores))from sklearn.model_selection import KFold\n",
        "from sklearn.metrics import accuracy_score\n",
        "\n",
        "# Define the outer and inner cross-validation strategies\n",
        "outer_cv = KFold(n_splits=5, shuffle=True, random_state=42)\n",
        "inner_cv = KFold(n_splits=5, shuffle=True, random_state=42)\n",
        "\n",
        "# Define the parameter grid\n",
        "C_values = [0.001, 0.01, 0.1, 1, 10, 100]\n",
        "\n",
        "# Nested cross-validation\n",
        "outer_scores = []\n",
        "\n",
        "for train_index, val_index in outer_cv.split(X, y):\n",
        "    X_train, X_val = X[train_index], X[val_index]\n",
        "    y_train, y_val = y[train_index], y[val_index]\n",
        "\n",
        "    best_score = 0\n",
        "    best_C = None\n",
        "\n",
        "    for C in C_values:\n",
        "        model = LogisticRegression(C=C, max_iter=1000)\n",
        "        inner_scores = cross_validate(model, X_train, y_train, cv=inner_cv, scoring='accuracy')['test_score']\n",
        "        score = np.mean(inner_scores)\n",
        "\n",
        "        if score > best_score:\n",
        "            best_score = score\n",
        "            best_C = C\n",
        "\n",
        "    # Train the model with the best C value on the outer training set\n",
        "    model = LogisticRegression(C=best_C, max_iter=1000)\n",
        "    model.fit(X_train, y_train)\n",
        "    val_score = accuracy_score(y_val, model.predict(X_val))\n",
        "    outer_scores.append(val_score)\n",
        "\n",
        "# Print the average accuracy across the outer folds\n",
        "print(\"Average accuracy:\", np.mean(outer_scores))from sklearn.model_selection import KFold\n",
        "from sklearn.metrics import accuracy_score\n",
        "\n",
        "# Define the outer and inner cross-validation strategies\n",
        "outer_cv = KFold(n_splits=5, shuffle=True, random_state=42)\n",
        "inner_cv = KFold(n_splits=5, shuffle=True, random_state=42)\n",
        "\n",
        "# Define the parameter grid\n",
        "C_values = [0.001, 0.01, 0.1, 1, 10, 100]\n",
        "\n",
        "# Nested cross-validation\n",
        "outer_scores = []\n",
        "\n",
        "for train_index, val_index in outer_cv.split(X, y):\n",
        "    X_train, X_val = X[train_index], X[val_index]\n",
        "    y_train, y_val = y[train_index], y[val_index]\n",
        "\n",
        "    best_score = 0\n",
        "    best_C = None\n",
        "\n",
        "    for C in C_values:\n",
        "        model = LogisticRegression(C=C, max_iter=1000)\n",
        "        inner_scores = cross_validate(model, X_train, y_train, cv=inner_cv, scoring='accuracy')['test_score']\n",
        "        score = np.mean(inner_scores)\n",
        "\n",
        "        if score > best_score:\n",
        "            best_score = score\n",
        "            best_C = C\n",
        "\n",
        "    # Train the model with the best C value on the outer training set\n",
        "    model = LogisticRegression(C=best_C, max_iter=1000)\n",
        "    model.fit(X_train, y_train)\n",
        "    val_score = accuracy_score(y_val, model.predict(X_val))\n",
        "    outer_scores.append(val_score)\n",
        "\n",
        "# Print the average accuracy across the outer folds\n",
        "print(\"Average accuracy:\", np.mean(outer_scores))from sklearn.model_selection import KFold\n",
        "from sklearn.metrics import accuracy_score\n",
        "\n",
        "# Define the outer and inner cross-validation strategies\n",
        "outer_cv = KFold(n_splits=5, shuffle=True, random_state=42)\n",
        "inner_cv = KFold(n_splits=5, shuffle=True, random_state=42)\n",
        "\n",
        "# Define the parameter grid\n",
        "C_values = [0.001, 0.01, 0.1, 1, 10, 100]\n",
        "\n",
        "# Nested cross-validation\n",
        "outer_scores = []\n",
        "\n",
        "for train_index, val_index in outer_cv.split(X, y):\n",
        "    X_train, X_val = X[train_index], X[val_index]\n",
        "    y_train, y_val = y[train_index], y[val_index]\n",
        "\n",
        "    best_score = 0\n",
        "    best_C = None\n",
        "\n",
        "    for C in C_values:\n",
        "        model = LogisticRegression(C=C, max_iter=1000)\n",
        "        inner_scores = cross_validate(model, X_train, y_train, cv=inner_cv, scoring='accuracy')['test_score']\n",
        "        score = np.mean(inner_scores)\n",
        "\n",
        "        if score > best_score:\n",
        "            best_score = score\n",
        "            best_C = C\n",
        "\n",
        "    # Train the model with the best C value on the outer training set\n",
        "    model = LogisticRegression(C=best_C, max_iter=1000)\n",
        "    model.fit(X_train, y_train)\n",
        "    val_score = accuracy_score(y_val, model.predict(X_val))\n",
        "    outer_scores.append(val_score)\n",
        "\n",
        "# Print the average accuracy across the outer folds\n",
        "print(\"Average accuracy:\", np.mean(outer_scores))from sklearn.model_selection import KFold\n",
        "from sklearn.metrics import accuracy_score\n",
        "\n",
        "# Define the outer and inner cross-validation strategies\n",
        "outer_cv = KFold(n_splits=5, shuffle=True, random_state=42)\n",
        "inner_cv = KFold(n_splits=5, shuffle=True, random_state=42)\n",
        "\n",
        "# Define the parameter grid\n",
        "C_values = [0.001, 0.01, 0.1, 1, 10, 100]\n",
        "\n",
        "# Nested cross-validation\n",
        "outer_scores = []\n",
        "\n",
        "for train_index, val_index in outer_cv.split(X, y):\n",
        "    X_train, X_val = X[train_index], X[val_index]\n",
        "    y_train, y_val = y[train_index], y[val_index]\n",
        "\n",
        "    best_score = 0\n",
        "    best_C = None\n",
        "\n",
        "    for C in C_values:\n",
        "        model = LogisticRegression(C=C, max_iter=1000)\n",
        "        inner_scores = cross_validate(model, X_train, y_train, cv=inner_cv, scoring='accuracy')['test_score']\n",
        "        score = np.mean(inner_scores)\n",
        "\n",
        "        if score > best_score:\n",
        "            best_score = score\n",
        "            best_C = C\n",
        "\n",
        "    # Train the model with the best C value on the outer training set\n",
        "    model = LogisticRegression(C=best_C, max_iter=1000)\n",
        "    model.fit(X_train, y_train)\n",
        "    val_score = accuracy_score(y_val, model.predict(X_val))\n",
        "    outer_scores.append(val_score)\n",
        "\n",
        "# Print the average accuracy across the outer folds\n",
        "print(\"Average accuracy:\", np.mean(outer_scores)):\n",
        "    X_train, X_val = X[train_index], X[val_index]\n",
        "    y_train, y_val = y[train_index], y[val_index]\n",
        "\n",
        "    best_score = 0\n",
        "    best_C = None\n",
        "\n",
        "    for C in C_values:\n",
        "        model = LogisticRegression(C=C, max_iter=1000)\n",
        "        inner_scores = cross_validate(model, X_train, y_train, cv=inner_cv, scoring='accuracy')['test_score']\n",
        "        score = np.mean(inner_scores)\n",
        "\n",
        "        if score > best_score:\n",
        "            best_score = score\n",
        "            best_C = C\n",
        "\n",
        "    # Train the model with the best C value on the outer training set\n",
        "    model = LogisticRegression(C=best_C, max_iter=1000)\n",
        "    model.fit(X_train, y_train)\n",
        "    val_score = accuracy_score(y_val, model.predict(X_val))\n",
        "    outer_scores.append(val_score)\n",
        "\n",
        "# Print the average accuracy across the outer folds\n",
        "print(\"Average accuracy:\", np.mean(outer_scores))\n"
      ],
      "metadata": {
        "colab": {
          "base_uri": "https://localhost:8080/"
        },
        "id": "2lC-JzGlcGUZ",
        "outputId": "30830774-24cc-429b-9403-cbcb37530977"
      },
      "execution_count": 24,
      "outputs": [
        {
          "output_type": "stream",
          "name": "stdout",
          "text": [
            "Average accuracy: 0.9733333333333334\n"
          ]
        }
      ]
    },
    {
      "cell_type": "code",
      "source": [
        "outer_scores"
      ],
      "metadata": {
        "colab": {
          "base_uri": "https://localhost:8080/"
        },
        "id": "JH9Teak9j01d",
        "outputId": "4de44730-835e-41ef-8e35-43ce9b27340f"
      },
      "execution_count": 26,
      "outputs": [
        {
          "output_type": "execute_result",
          "data": {
            "text/plain": [
              "[1.0, 1.0, 0.9333333333333333, 0.9666666666666667, 0.9666666666666667]"
            ]
          },
          "metadata": {},
          "execution_count": 26
        }
      ]
    },
    {
      "cell_type": "code",
      "source": [
        "best_score"
      ],
      "metadata": {
        "colab": {
          "base_uri": "https://localhost:8080/"
        },
        "id": "Jb4Xj1pSj2UV",
        "outputId": "2fe55142-151d-4efc-fba6-d7885203c29c"
      },
      "execution_count": 27,
      "outputs": [
        {
          "output_type": "execute_result",
          "data": {
            "text/plain": [
              "0.95"
            ]
          },
          "metadata": {},
          "execution_count": 27
        }
      ]
    },
    {
      "cell_type": "code",
      "source": [
        "outer_cv"
      ],
      "metadata": {
        "colab": {
          "base_uri": "https://localhost:8080/"
        },
        "id": "4SSyF8spkKGl",
        "outputId": "61e14a03-a32c-40d0-d6fe-a8089fc85d08"
      },
      "execution_count": 28,
      "outputs": [
        {
          "output_type": "execute_result",
          "data": {
            "text/plain": [
              "KFold(n_splits=5, random_state=42, shuffle=True)"
            ]
          },
          "metadata": {},
          "execution_count": 28
        }
      ]
    },
    {
      "cell_type": "code",
      "source": [
        "inner_cv"
      ],
      "metadata": {
        "colab": {
          "base_uri": "https://localhost:8080/"
        },
        "id": "defR8XYtkQky",
        "outputId": "303c5277-0253-43af-8e23-c49f3c32a9fe"
      },
      "execution_count": 29,
      "outputs": [
        {
          "output_type": "execute_result",
          "data": {
            "text/plain": [
              "KFold(n_splits=5, random_state=42, shuffle=True)"
            ]
          },
          "metadata": {},
          "execution_count": 29
        }
      ]
    },
    {
      "cell_type": "code",
      "source": [
        "rain = outer_cv.split(X, y)"
      ],
      "metadata": {
        "id": "JJZPEHqbkXkv"
      },
      "execution_count": 31,
      "outputs": []
    },
    {
      "cell_type": "code",
      "source": [
        "rain\n"
      ],
      "metadata": {
        "colab": {
          "base_uri": "https://localhost:8080/"
        },
        "id": "5ssIvp8hleZU",
        "outputId": "cfaf8faa-268e-479a-c458-f5b3e76f328b"
      },
      "execution_count": 32,
      "outputs": [
        {
          "output_type": "execute_result",
          "data": {
            "text/plain": [
              "<generator object _BaseKFold.split at 0x7ff815b00cf0>"
            ]
          },
          "metadata": {},
          "execution_count": 32
        }
      ]
    },
    {
      "cell_type": "code",
      "source": [],
      "metadata": {
        "id": "mkmNQbjRkYqz"
      },
      "execution_count": 34,
      "outputs": []
    }
  ]
}